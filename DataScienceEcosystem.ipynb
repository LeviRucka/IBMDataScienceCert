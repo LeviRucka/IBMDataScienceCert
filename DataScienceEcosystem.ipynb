{
 "cells": [
  {
   "cell_type": "markdown",
   "id": "f8ec3281-ecdc-48cb-8c2f-134c86bf8656",
   "metadata": {},
   "source": [
    "# Data Science Tools and Ecosystem"
   ]
  },
  {
   "cell_type": "markdown",
   "id": "68b6da60-677b-4c1c-88e5-53f44cba7993",
   "metadata": {},
   "source": [
    "In this notebook, Data Science Tools and Ecosystem are summarized"
   ]
  },
  {
   "cell_type": "markdown",
   "id": "4d67c404-e163-4ac6-b18b-4294c47775f1",
   "metadata": {},
   "source": [
    "**Objectives:**\n",
    "- List popular languages for data science\n",
    "- List commonly used libraries used by Data Scientists\n",
    "- List Data Science Tools\n",
    "- Run simple arithmetic expressions\n",
    "- Convert minutes to hours"
   ]
  },
  {
   "cell_type": "markdown",
   "id": "7f0f85e5-4920-40be-a930-698f16cf2e36",
   "metadata": {},
   "source": [
    "Some of the popular languages that Data Scientists use are:\n",
    "1. R\n",
    "2. Python\n",
    "3. SQL"
   ]
  },
  {
   "cell_type": "markdown",
   "id": "fdfb39d4-f80a-4d0a-b12a-52d1aa73b976",
   "metadata": {},
   "source": [
    "Some of the commonly used libraries used by Data Scientists include:\n",
    "1. Dplyr\n",
    "2. GGplot\n",
    "3. NumPy"
   ]
  },
  {
   "cell_type": "markdown",
   "id": "ca2759cd-a486-4ce1-835b-ab70a072bbeb",
   "metadata": {},
   "source": [
    "| Data Science Tools: |\n",
    "|---------------------|\n",
    "|1. Keras             |\n",
    "|2. Apache Spark      |\n",
    "|3. Julia             |"
   ]
  },
  {
   "cell_type": "markdown",
   "id": "3b76dc76-afa0-404d-ad0b-9b3a63de03fc",
   "metadata": {},
   "source": [
    "### Below are a few examples of evaluating arithmetic expressions in Python"
   ]
  },
  {
   "cell_type": "code",
   "execution_count": 1,
   "id": "3b0d3072-fd64-40cc-ac88-becd92426711",
   "metadata": {},
   "outputs": [
    {
     "data": {
      "text/plain": [
       "17"
      ]
     },
     "execution_count": 1,
     "metadata": {},
     "output_type": "execute_result"
    }
   ],
   "source": [
    "# This a simple arithmetic expression to multiply then add integers\n",
    "(3*4)+5"
   ]
  },
  {
   "cell_type": "code",
   "execution_count": 2,
   "id": "8654f41a-dfea-4a94-a51f-55fa93627a3d",
   "metadata": {},
   "outputs": [
    {
     "data": {
      "text/plain": [
       "3.3333333333333335"
      ]
     },
     "execution_count": 2,
     "metadata": {},
     "output_type": "execute_result"
    }
   ],
   "source": [
    "# This will convert 200 minutes to hours by diving by 60\n",
    "200 / 60"
   ]
  },
  {
   "cell_type": "markdown",
   "id": "5a7a9866-9031-467e-9503-29d9bdd72ebe",
   "metadata": {},
   "source": [
    "## Author\n",
    "Levi Rucka"
   ]
  }
 ],
 "metadata": {
  "kernelspec": {
   "display_name": "Python [conda env:base] *",
   "language": "python",
   "name": "conda-base-py"
  },
  "language_info": {
   "codemirror_mode": {
    "name": "ipython",
    "version": 3
   },
   "file_extension": ".py",
   "mimetype": "text/x-python",
   "name": "python",
   "nbconvert_exporter": "python",
   "pygments_lexer": "ipython3",
   "version": "3.12.7"
  }
 },
 "nbformat": 4,
 "nbformat_minor": 5
}
